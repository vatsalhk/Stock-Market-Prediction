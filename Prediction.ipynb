{
 "cells": [
  {
   "cell_type": "code",
   "execution_count": 45,
   "metadata": {},
   "outputs": [],
   "source": [
    "import pandas as pd\n",
    "import numpy as np\n",
    "from sklearn import metrics\n",
    "import pickle"
   ]
  },
  {
   "cell_type": "code",
   "execution_count": 46,
   "metadata": {},
   "outputs": [
    {
     "name": "stderr",
     "output_type": "stream",
     "text": [
      "C:\\Users\\ayush\\Anaconda3\\lib\\site-packages\\sklearn\\base.py:318: UserWarning: Trying to unpickle estimator DecisionTreeRegressor from version 0.23.1 when using version 0.22.1. This might lead to breaking code or invalid results. Use at your own risk.\n",
      "  UserWarning)\n",
      "C:\\Users\\ayush\\Anaconda3\\lib\\site-packages\\sklearn\\base.py:318: UserWarning: Trying to unpickle estimator RandomForestRegressor from version 0.23.1 when using version 0.22.1. This might lead to breaking code or invalid results. Use at your own risk.\n",
      "  UserWarning)\n"
     ]
    }
   ],
   "source": [
    "import pickle\n",
    "filename = '18BCE107_18BCE092_18BCE122'\n",
    "loaded_model = pickle.load(open(filename,'rb'))"
   ]
  },
  {
   "cell_type": "code",
   "execution_count": 47,
   "metadata": {},
   "outputs": [
    {
     "name": "stdout",
     "output_type": "stream",
     "text": [
      "enter the test file name (for eg. test.csv):   test.csv\n",
      "          0         1         2         3\n",
      "0  2.028297  1.994748  2.028593 -0.454126\n",
      "1  1.993205  1.986101  2.013058 -0.148364\n",
      "2  2.004185  1.999137  2.026741 -0.416569\n",
      "3  2.015152  1.996960  2.015293 -0.446340\n",
      "4  2.019557  1.996786  2.035954 -0.213217\n"
     ]
    }
   ],
   "source": [
    "testFile = input(\"enter the test file name (for eg. test.csv):   \")\n",
    "x_test_raw = pd.read_csv(testFile,header = None)\n",
    "\n",
    "mean = np.array([21117.62850145, 21393.33648126, 20835.97118753,  9150.68203552])\n",
    "std = np.sqrt(np.array([5.18406685e+08, 5.29610093e+08, 5.06717682e+08, 1.19180529e+08]))\n",
    "\n",
    "x_test_raw[0] = (x_test_raw[0] - mean[0])/std[0]\n",
    "x_test_raw[1] = (x_test_raw[1] - mean[1])/std[1]\n",
    "x_test_raw[2] = (x_test_raw[2] - mean[2])/std[2]\n",
    "x_test_raw[3] = (x_test_raw[3] - mean[3])/std[3]\n",
    "\n",
    "print(x_test_raw.head())"
   ]
  },
  {
   "cell_type": "code",
   "execution_count": 48,
   "metadata": {
    "scrolled": true
   },
   "outputs": [],
   "source": [
    "preds = loaded_model.predict(x_test_raw)"
   ]
  },
  {
   "cell_type": "code",
   "execution_count": 49,
   "metadata": {},
   "outputs": [],
   "source": [
    "pd.DataFrame(preds).to_csv(\"output.csv\",header=['Adj Close'],index = False)"
   ]
  },
  {
   "cell_type": "code",
   "execution_count": null,
   "metadata": {},
   "outputs": [],
   "source": []
  }
 ],
 "metadata": {
  "kernelspec": {
   "display_name": "Python 3",
   "language": "python",
   "name": "python3"
  },
  "language_info": {
   "codemirror_mode": {
    "name": "ipython",
    "version": 3
   },
   "file_extension": ".py",
   "mimetype": "text/x-python",
   "name": "python",
   "nbconvert_exporter": "python",
   "pygments_lexer": "ipython3",
   "version": "3.7.4"
  }
 },
 "nbformat": 4,
 "nbformat_minor": 4
}
